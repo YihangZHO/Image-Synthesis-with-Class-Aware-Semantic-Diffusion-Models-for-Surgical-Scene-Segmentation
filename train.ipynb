{
  "cells": [
    {
      "cell_type": "code",
      "execution_count": null,
      "metadata": {
        "id": "azJfVrUy6x_d"
      },
      "outputs": [],
      "source": [
        "!pip install -r requirements.txt"
      ]
    },
    {
      "cell_type": "code",
      "execution_count": null,
      "metadata": {
        "id": "4gEVsz71IiBO",
        "collapsed": true
      },
      "outputs": [],
      "source": [
        "from google.colab import drive\n",
        "drive.mount('/content/drive', force_remount=True)"
      ]
    },
    {
      "cell_type": "code",
      "execution_count": null,
      "metadata": {
        "id": "asxxHpeGIleu"
      },
      "outputs": [],
      "source": [
        "!mkdir train_local\n",
        "!cp \"/content/drive/MyDrive/casdm/all/cholec_train_test.zip\" \"/content/train_local/cholek_split.zip\"\n",
        "!cp \"/content/drive/MyDrive/casdm/all/mask_color.zip\" \"/content/train_local/mask_color.zip\"\n",
        "!unzip \"/content/train_local/cholek_split.zip\" -d \"/content/train_local\"\n",
        "!unzip \"/content/train_local/mask_color.zip\" -d \"/content/train_local/cholek_split\""
      ]
    },
    {
      "cell_type": "code",
      "execution_count": 11,
      "metadata": {
        "id": "BHiJJYd5kBUT"
      },
      "outputs": [],
      "source": [
        "import shutil\n",
        "import os\n",
        "\n",
        "source_path = '/content/drive/MyDrive/casdm/six/checkpoint'\n",
        "\n",
        "destination_path = '/content/ddpm-ema/checkpoint'\n",
        "\n",
        "if os.path.isfile(source_path):\n",
        "    shutil.copy(source_path, destination_path)\n",
        "elif os.path.isdir(source_path):\n",
        "    shutil.copytree(source_path, destination_path)"
      ]
    },
    {
      "cell_type": "code",
      "execution_count": 6,
      "metadata": {
        "id": "7gMpk17mEyGQ"
      },
      "outputs": [],
      "source": [
        "!cp /content/unet_2d.py /usr/local/lib/python3.11/dist-packages/diffusers/models/unets/unet_2d.py\n",
        "!cp /content/pipeline_ddpm.py /usr/local/lib/python3.11/dist-packages/diffusers/pipelines/ddpm/pipeline_ddpm.py\n",
        "!cp /content/pipeline_ddim.py /usr/local/lib/python3.11/dist-packages/diffusers/pipelines/ddim/pipeline_ddim.py\n",
        "!cp /content/linear.py /usr/local/lib/python3.11/dist-packages/torch/nn/modules/linear.py\n",
        "!cp /content/conv.py /usr/local/lib/python3.11/dist-packages/torch/nn/modules/conv.py"
      ]
    },
    {
      "cell_type": "code",
      "execution_count": null,
      "metadata": {
        "id": "1brsTyxY64ab"
      },
      "outputs": [],
      "source": [
        "!accelerate launch /content/train_colab.py"
      ]
    }
  ],
  "metadata": {
    "accelerator": "GPU",
    "colab": {
      "gpuType": "A100",
      "machine_shape": "hm",
      "provenance": []
    },
    "kernelspec": {
      "display_name": "Python 3",
      "name": "python3"
    },
    "language_info": {
      "name": "python"
    }
  },
  "nbformat": 4,
  "nbformat_minor": 0
}