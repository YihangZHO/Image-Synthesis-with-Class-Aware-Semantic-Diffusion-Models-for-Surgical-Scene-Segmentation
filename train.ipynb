{
  "cells": [
    {
      "cell_type": "code",
      "execution_count": null,
      "metadata": {
        "id": "azJfVrUy6x_d"
      },
      "outputs": [],
      "source": [
        "!pip install -r requirements.txt"
      ]
    },
    {
      "cell_type": "code",
      "execution_count": 2,
      "metadata": {
        "colab": {
          "base_uri": "https://localhost:8080/"
        },
        "id": "4gEVsz71IiBO",
        "outputId": "3c0caf7d-e16e-476e-e372-0895e0cab09b"
      },
      "outputs": [
        {
          "output_type": "stream",
          "name": "stdout",
          "text": [
            "Mounted at /content/drive\n"
          ]
        }
      ],
      "source": [
        "from google.colab import drive\n",
        "drive.mount('/content/drive')"
      ]
    },
    {
      "cell_type": "code",
      "execution_count": null,
      "metadata": {
        "id": "asxxHpeGIleu"
      },
      "outputs": [],
      "source": [
        "!mkdir train_local\n",
        "!cp \"/content/drive/MyDrive/casdm/all/cholec_train_test.zip\" \"/content/train_local/cholek_split.zip\"\n",
        "!cp \"/content/drive/MyDrive/casdm/all/mask_color.zip\" \"/content/train_local/mask_color.zip\"\n",
        "!unzip \"/content/train_local/cholek_split.zip\" -d \"/content/train_local\"\n",
        "!unzip \"/content/train_local/mask_color.zip\" -d \"/content/train_local/cholek_split\""
      ]
    },
    {
      "cell_type": "code",
      "execution_count": 5,
      "metadata": {
        "id": "BHiJJYd5kBUT"
      },
      "outputs": [],
      "source": [
        "import shutil\n",
        "import os\n",
        "\n",
        "source_path = '/content/drive/MyDrive/casdm/six/checkpoint-61500'\n",
        "\n",
        "destination_path = '/content/ddpm-ema/checkpoint-61500'\n",
        "\n",
        "if os.path.isfile(source_path):\n",
        "    shutil.copy(source_path, destination_path)\n",
        "elif os.path.isdir(source_path):\n",
        "    shutil.copytree(source_path, destination_path)"
      ]
    },
    {
      "cell_type": "code",
      "execution_count": 6,
      "metadata": {
        "id": "7gMpk17mEyGQ"
      },
      "outputs": [],
      "source": [
        "!cp /content/unet_2d.py /usr/local/lib/python3.11/dist-packages/diffusers/models/unets/unet_2d.py\n",
        "!cp /content/pipeline_ddpm.py /usr/local/lib/python3.11/dist-packages/diffusers/pipelines/ddpm/pipeline_ddpm.py\n",
        "!cp /content/pipeline_ddim.py /usr/local/lib/python3.11/dist-packages/diffusers/pipelines/ddim/pipeline_ddim.py\n",
        "!cp /content/linear.py /usr/local/lib/python3.11/dist-packages/torch/nn/modules/linear.py\n",
        "!cp /content/conv.py /usr/local/lib/python3.11/dist-packages/torch/nn/modules/conv.py"
      ]
    },
    {
      "cell_type": "code",
      "execution_count": null,
      "metadata": {
        "colab": {
          "base_uri": "https://localhost:8080/"
        },
        "id": "1brsTyxY64ab",
        "outputId": "12a43d97-0442-43e8-aea2-3f5900a9b36a"
      },
      "outputs": [
        {
          "output_type": "stream",
          "name": "stdout",
          "text": [
            "Epoch 90:  11% 79/687 [02:46<21:16,  2.10s/it, ema_decay=0.998, loss=0.000919, lr=9.23e-5, step=61909]"
          ]
        }
      ],
      "source": [
        "!accelerate launch /content/train_colab.py"
      ]
    }
  ],
  "metadata": {
    "accelerator": "GPU",
    "colab": {
      "gpuType": "A100",
      "machine_shape": "hm",
      "provenance": []
    },
    "kernelspec": {
      "display_name": "Python 3",
      "name": "python3"
    },
    "language_info": {
      "name": "python"
    }
  },
  "nbformat": 4,
  "nbformat_minor": 0
}